{
 "metadata": {
  "name": "",
  "signature": "sha256:9a3b6ef046b645125430ecd62da99b13f8b211c1b563cc42388d63e05fb014be"
 },
 "nbformat": 3,
 "nbformat_minor": 0,
 "worksheets": []
}