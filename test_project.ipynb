{
 "metadata": {
  "name": "",
  "signature": "sha256:a7df4e29dee0abcffa949c36bca916b015489322ab99da64799c0b62c3551677"
 },
 "nbformat": 3,
 "nbformat_minor": 0,
 "worksheets": [
  {
   "cells": [
    {
     "cell_type": "code",
     "collapsed": false,
     "input": [
      "import sys\n",
      "import numpy as np\n",
      "import json\n",
      "possibs = {    1:[-1,1,0,0],\n",
      "               2:[0,-1,1,0],\n",
      "               3:[0,0,-1,1],\n",
      "               4:[1,-1,0,0],\n",
      "               5:[1,0,-1,0],\n",
      "               6:[1,0,0,-1]\n",
      "           }"
     ],
     "language": "python",
     "metadata": {},
     "outputs": [],
     "prompt_number": 96
    },
    {
     "cell_type": "code",
     "collapsed": false,
     "input": [
      "input_file = \"config.json\"\n",
      "config = json.load(open(input_file))\n",
      "beta, sigma, mu, gamma, Y0, tmax = config['beta'], config['sigma'],config['mu'],config['gamma'], np.array(config['Y0']), config['tmax']\n",
      "N = sum(Y0)"
     ],
     "language": "python",
     "metadata": {},
     "outputs": [],
     "prompt_number": 99
    },
    {
     "cell_type": "code",
     "collapsed": false,
     "input": [
      "print(beta,sigma,mu, gamma, Y0, tmax, N)"
     ],
     "language": "python",
     "metadata": {},
     "outputs": [
      {
       "output_type": "stream",
       "stream": "stdout",
       "text": [
        "1 1 1 1 [98  0  2  0] 1000 100\n"
       ]
      }
     ],
     "prompt_number": 101
    },
    {
     "cell_type": "code",
     "collapsed": false,
     "input": [
      "T, S, E, I, R = [],[],[],[],[]\n",
      "t = 0\n",
      "state = Y0"
     ],
     "language": "python",
     "metadata": {},
     "outputs": [],
     "prompt_number": 102
    },
    {
     "cell_type": "code",
     "collapsed": false,
     "input": [
      "for i in range(1):       \n",
      "        T.append(t)\n",
      "        S.append(state[0])\n",
      "        E.append(state[1])\n",
      "        I.append(state[2])\n",
      "        R.append(state[3])\n",
      "        # next = what_next(state)\n",
      "        # t += next[0]\n",
      "        # state = next[1]\n",
      "        # output(t,state[0],state[1],state[2],state[3],n)"
     ],
     "language": "python",
     "metadata": {},
     "outputs": [],
     "prompt_number": 103
    },
    {
     "cell_type": "code",
     "collapsed": false,
     "input": [
      "print(T,S,E,I,R)"
     ],
     "language": "python",
     "metadata": {},
     "outputs": [
      {
       "output_type": "stream",
       "stream": "stdout",
       "text": [
        "[0] [98] [0] [2] [0]\n"
       ]
      }
     ],
     "prompt_number": 104
    },
    {
     "cell_type": "code",
     "collapsed": false,
     "input": [
      "probs = np.array([beta * state[0]* state[2] / N,\n",
      "                      sigma* state[1],\n",
      "                      gamma* state[2],\n",
      "                      mu* state[1],\n",
      "                      mu* state[2],\n",
      "                      mu* state[3]])\n",
      "print(probs)"
     ],
     "language": "python",
     "metadata": {},
     "outputs": [
      {
       "output_type": "stream",
       "stream": "stdout",
       "text": [
        "[ 1.96  0.    2.    0.    2.    0.  ]\n"
       ]
      }
     ],
     "prompt_number": 107
    },
    {
     "cell_type": "code",
     "collapsed": false,
     "input": [
      "rate = sum(probs)\n",
      "probs = probs / sum(probs)\n",
      "print(sum(probs))"
     ],
     "language": "python",
     "metadata": {},
     "outputs": [
      {
       "output_type": "stream",
       "stream": "stdout",
       "text": [
        "1.0\n"
       ]
      }
     ],
     "prompt_number": 108
    },
    {
     "cell_type": "code",
     "collapsed": false,
     "input": [
      "np.random.exponential(1/rate), state + possibs[np.random.choice([1,2,3,4,5,6], p = probs)]"
     ],
     "language": "python",
     "metadata": {},
     "outputs": [
      {
       "metadata": {},
       "output_type": "pyout",
       "prompt_number": 109,
       "text": [
        "(0.03735491467510014, array([98,  0,  1,  1]))"
       ]
      }
     ],
     "prompt_number": 109
    },
    {
     "cell_type": "code",
     "collapsed": false,
     "input": [],
     "language": "python",
     "metadata": {},
     "outputs": []
    }
   ],
   "metadata": {}
  }
 ]
}